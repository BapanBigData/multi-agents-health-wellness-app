{
 "cells": [
  {
   "cell_type": "code",
   "execution_count": 1,
   "id": "d54dcc1a",
   "metadata": {},
   "outputs": [
    {
     "name": "stdout",
     "output_type": "stream",
     "text": [
      "hello\n"
     ]
    }
   ],
   "source": [
    "print('hello')"
   ]
  },
  {
   "cell_type": "code",
   "execution_count": 2,
   "id": "cb530dbf",
   "metadata": {},
   "outputs": [
    {
     "name": "stderr",
     "output_type": "stream",
     "text": [
      "d:\\API Developement\\multi_agents_health_wellness_app\\.venv\\Lib\\site-packages\\epidatpy\\_auth.py:9: UserWarning: DELPHI_EPIDATA_KEY environment variable not set. Please set it to your Epidata API key to avoid rate limits. You can get a free key at: https://api.delphi.cmu.edu/epidata/admin/registration_form\n",
      "  warnings.warn(\n"
     ]
    },
    {
     "name": "stdout",
     "output_type": "stream",
     "text": [
      "     source                    signal geo_type geo_value time_type time_value  \\\n",
      "0  jhu-csse  confirmed_cumulative_num   nation        us       day 2021-04-05   \n",
      "1  jhu-csse  confirmed_cumulative_num   nation        us       day 2021-04-06   \n",
      "2  jhu-csse  confirmed_cumulative_num   nation        us       day 2021-04-07   \n",
      "3  jhu-csse  confirmed_cumulative_num   nation        us       day 2021-04-08   \n",
      "4  jhu-csse  confirmed_cumulative_num   nation        us       day 2021-04-09   \n",
      "5  jhu-csse  confirmed_cumulative_num   nation        us       day 2021-04-10   \n",
      "\n",
      "       issue  lag       value  stderr  sample_size  direction  missing_value  \\\n",
      "0 2023-03-10  704  30874278.0    <NA>         <NA>       <NA>              0   \n",
      "1 2023-03-10  703  30937664.0    <NA>         <NA>       <NA>              0   \n",
      "2 2023-03-10  702  31013399.0    <NA>         <NA>       <NA>              0   \n",
      "3 2023-03-10  701  31093208.0    <NA>         <NA>       <NA>              0   \n",
      "4 2023-03-10  700  31177602.0    <NA>         <NA>       <NA>              0   \n",
      "5 2023-03-10  699  31247947.0    <NA>         <NA>       <NA>              0   \n",
      "\n",
      "   missing_stderr  missing_sample_size  \n",
      "0               5                    5  \n",
      "1               5                    5  \n",
      "2               5                    5  \n",
      "3               5                    5  \n",
      "4               5                    5  \n",
      "5               5                    5  \n"
     ]
    }
   ],
   "source": [
    "from epidatpy import EpiDataContext, EpiRange\n",
    "\n",
    "# Create the client object.\n",
    "epidata = EpiDataContext()\n",
    "apicall = epidata.pub_covidcast(\n",
    "    data_source=\"jhu-csse\",\n",
    "    signals=\"confirmed_cumulative_num\",\n",
    "    geo_type=\"nation\",\n",
    "    time_type=\"day\",\n",
    "    geo_values=\"us\",\n",
    "    time_values=EpiRange(20210405, 20210410),\n",
    ")\n",
    "print(apicall.df())"
   ]
  },
  {
   "cell_type": "code",
   "execution_count": 4,
   "id": "175d56a4",
   "metadata": {},
   "outputs": [
    {
     "data": {
      "text/plain": [
       "EpiDataCall(endpoint=covidcast/, params={'data_source': 'jhu-csse', 'signals': 'confirmed_cumulative_num', 'geo_type': 'nation', 'time_type': 'day', 'geo_values': 'us', 'time_values': '20210405-20210410'})"
      ]
     },
     "execution_count": 4,
     "metadata": {},
     "output_type": "execute_result"
    }
   ],
   "source": [
    "apicall"
   ]
  },
  {
   "cell_type": "markdown",
   "id": "bebabffb",
   "metadata": {},
   "source": [
    "EpiDataCall(endpoint=covidcast/, params={'data_source': 'jhu-csse', 'signals': 'confirmed_cumulative_num', 'geo_type': 'nation', 'time_type': 'day', 'geo_values': 'us', 'time_values': '20210405-20210410'})\n"
   ]
  },
  {
   "cell_type": "code",
   "execution_count": 23,
   "id": "b9c15cc7",
   "metadata": {},
   "outputs": [
    {
     "data": {
      "text/plain": [
       "<bound method EpiDataCall.df of EpiDataCall(endpoint=covidcast/, params={'data_source': 'jhu-csse', 'signals': 'confirmed_cumulative_num', 'geo_type': 'nation', 'time_type': 'day', 'geo_values': 'us', 'time_values': '20210405-20210410'})>"
      ]
     },
     "execution_count": 23,
     "metadata": {},
     "output_type": "execute_result"
    }
   ],
   "source": [
    "apicall.df"
   ]
  },
  {
   "cell_type": "markdown",
   "id": "6011d267",
   "metadata": {},
   "source": [
    "<bound method EpiDataCall.df of EpiDataCall(endpoint=covidcast/, params={'data_source': 'jhu-csse', 'signals': 'confirmed_cumulative_num', 'geo_type': 'nation', 'time_type': 'day', 'geo_values': 'us', 'time_values': '20210405-20210410'})>"
   ]
  },
  {
   "cell_type": "code",
   "execution_count": 6,
   "id": "2b03cce9",
   "metadata": {},
   "outputs": [],
   "source": [
    "import requests\n",
    "from typing import Dict"
   ]
  },
  {
   "cell_type": "code",
   "execution_count": 11,
   "id": "ff177f30",
   "metadata": {},
   "outputs": [],
   "source": [
    "import requests\n",
    "from langchain.tools import tool\n",
    "\n",
    "@tool\n",
    "def get_drug_label_info(ingredient: str) -> dict:\n",
    "    \"\"\"\n",
    "    Fetches drug label information for a given active ingredient from the OpenFDA Drug Label API.\n",
    "\n",
    "    Args:\n",
    "        ingredient (str): The active drug ingredient to search for (e.g., 'paracetamol').\n",
    "\n",
    "    Returns:\n",
    "        dict: A dictionary containing drug label data such as active ingredient, purpose, warnings, dosage, etc.\n",
    "            Metadata like disclaimer and terms are excluded.\n",
    "            Returns an empty dict if no results are found or the API fails.\n",
    "    \"\"\"\n",
    "    try:\n",
    "        url = f\"https://api.fda.gov/drug/label.json?search=active_ingredient:%22{ingredient}%22&limit=1\"\n",
    "        response = requests.get(url, timeout=10)\n",
    "        response.raise_for_status()\n",
    "        data = response.json()\n",
    "        \n",
    "        # Return only the first result if available\n",
    "        if \"results\" in data and len(data[\"results\"]) > 0:\n",
    "            return data[\"results\"][0]\n",
    "        else:\n",
    "            return {}\n",
    "        \n",
    "    except Exception as e:\n",
    "        return {\"error\": str(e)}"
   ]
  },
  {
   "cell_type": "code",
   "execution_count": 12,
   "id": "d0ef6c78",
   "metadata": {},
   "outputs": [
    {
     "data": {
      "text/plain": [
       "\"Fetches drug label information for a given active ingredient from the OpenFDA Drug Label API.\\n\\nArgs:\\n    ingredient (str): The active drug ingredient to search for (e.g., 'paracetamol').\\n\\nReturns:\\n    dict: A dictionary containing drug label data such as active ingredient, purpose, warnings, dosage, etc.\\n        Metadata like disclaimer and terms are excluded.\\n        Returns an empty dict if no results are found or the API fails.\""
      ]
     },
     "execution_count": 12,
     "metadata": {},
     "output_type": "execute_result"
    }
   ],
   "source": [
    "get_drug_label_info.description"
   ]
  },
  {
   "cell_type": "code",
   "execution_count": 13,
   "id": "6d32d31b",
   "metadata": {},
   "outputs": [],
   "source": [
    "response = get_drug_label_info.invoke(\n",
    "    {\n",
    "        'ingredient': 'paracetamol'\n",
    "    }\n",
    ")"
   ]
  },
  {
   "cell_type": "code",
   "execution_count": 14,
   "id": "286905f9",
   "metadata": {},
   "outputs": [
    {
     "data": {
      "text/plain": [
       "{'spl_product_data_elements': ['L-Oral PARACETAMOL Syrup Paracetamol METHYLPARABEN PROPYLPARABEN POTASSIUM SORBATE CITRIC ACID MONOHYDRATE SORBITOL PROPYLENE GLYCOL SUCRALOSE POVIDONE K30 GLYCERIN FD&C RED NO. 40 D&C RED NO. 33 WATER ACETAMINOPHEN ACETAMINOPHEN'],\n",
       " 'spl_unclassified_section': ['DRUG FACTS',\n",
       "  '√ Fever reducer - Pain reliever √ Alcohol Free √ Aspirin Free Manufactured by : Global Pharma Healthcare Pvt. Ltd., A-9, SIDCO Pharmaceutical Complex, Alathur-603 110 - INDIA. www.global-pharma.com'],\n",
       " 'active_ingredient': ['Active ingredient Paracetamol 160 mg'],\n",
       " 'purpose': ['Purpose Pain reliever - Fever reducer'],\n",
       " 'inactive_ingredient': ['INACTIVE INGREDIENTS Artificial flavour, Methylparaben, Propylparaben, Potassium sorbate, Citric Acid Monohydrate, Sorbitol, Propylene glycol, Sucralose, Povidone K30, Glycerin, FD&C Red #40, D&C Red #33 & Purified water.'],\n",
       " 'indications_and_usage': ['USES Temporarily relieves minor aches and pains due to: • The common cold • Flu • Headache • Sore throat • Toothache • Temporarily reduces fever'],\n",
       " 'warnings': ['WARNINGS Liver warning: This product contains acetaminophen. Severe liver damage may occur if your child takes: • More than 5 doses in 24 hours, which is the maximum daily amount • With other drugs containing acetaminophen Allergy alert: acetaminophen may cause severe skin reactions. Symptoms may include: • Skin reddening • Blisters • Rash If a skin reaction occurs, stop use and seek medical help right away. Sore throat warning: If sore throat is severe, persists for more than 2 days, is accompanied or followed by fever, headache, rash, nausea, or vomiting, consult a doctor promptly. Do not use • With any other product containing acetaminophen (prescription or nonprescription). If you are not sure whether a drug contains acetaminophen, ask a doctor or pharmacist • If your child is allergic to acetaminophen or any of the inactive ingredients in this product Ask a doctor before use if your child has liver disease Ask a doctor or pharmacist before use if your child is taking the blood thinning drug warfarin When using this product, do not exceed recommended dose (see overdose warning) Stop use and ask a doctor if • Pain gets worse or last for more than 5 days • Fever gets worse or last for more than 3 days • New symptoms occur • Redness or swelling is present These could be signs of a serious condition. Keep out of the reach of children. Overdose warning: Taking more than the recommended dose (overdose) may cause liver damage. In case of overdose, get medical help or contact a Poison Control Center (1-800-222-1222) right away. Quick medical attention is critical for adults as well as children even if you do not notice any signs or symptoms.'],\n",
       " 'keep_out_of_reach_of_children': ['Keep out of the reach of children. Overdose warning: Taking more than the recommended dose (overdose) may cause liver damage. In case of overdose, get medical help or contact a Poison Control Center (1-800-222-1222) right away. Quick medical attention is critical for adults as well as children even if you do not notice any signs or symptoms.'],\n",
       " 'dosage_and_administration': ['DIRECTIONS • This product does not contain directions or complete warnings for adult use • Find right dose on chart. If possible, use weight to dose; otherwise, use age • mL = milliliter • If needed, repeat dose every 4 hours • Do not use more than 5 doses in 24 hours • Use enclosed dosing cup only. Do not use any other device Weight Age Dose under 24 lbs Under 2 years Ask a doctor 24 to 35 lbs 2 to 3 years 5mL 36 to 47 lbs 4 to 5 years 7.5mL 48 to 59 lbs 6 to 8 years 10mL 60 to 71 lbs 9 to 10 years 12.5mL 72 to 95 lbs 11 years 15mL'],\n",
       " 'dosage_and_administration_table': ['<table width=\"40%\"><caption/><tbody><tr><td styleCode=\"Rrule\"><content styleCode=\"bold\"> Weight</content></td><td styleCode=\"Rrule\"><content styleCode=\"bold\"> Age</content></td><td><content styleCode=\"bold\"> Dose</content></td></tr><tr><td styleCode=\"Rrule\"> under 24 lbs</td><td styleCode=\"Rrule\"> Under 2 years</td><td> Ask a doctor</td></tr><tr><td styleCode=\"Rrule\"> 24 to 35 lbs </td><td styleCode=\"Rrule\"> 2 to 3 years </td><td> 5mL</td></tr><tr><td styleCode=\"Rrule\"> 36 to 47 lbs</td><td styleCode=\"Rrule\"> 4 to 5 years</td><td> 7.5mL</td></tr><tr><td styleCode=\"Rrule\"> 48 to 59 lbs </td><td styleCode=\"Rrule\"> 6 to 8 years </td><td> 10mL</td></tr><tr><td styleCode=\"Rrule\"> 60 to 71 lbs </td><td styleCode=\"Rrule\"> 9 to 10 years </td><td> 12.5mL</td></tr><tr><td styleCode=\"Rrule\"> 72 to 95 lbs </td><td styleCode=\"Rrule\"> 11 years </td><td> 15mL</td></tr></tbody></table>'],\n",
       " 'storage_and_handling': [\"OTHER INFORMATION • TAMPER EVIDENT: Do not use this product if inner foil seal over mouth of the bottle is cut, torn, broken, or missing. • Store at 20°- 25°C (68° - 77°F) • This product is not the same concentration as Infants' Drops. For accurate dosing, follow the dosing instructions on this label.\"],\n",
       " 'questions': ['QUESTIONS OR COMMENTS? Call toll-free 1-800-572-6632, Weekdays 7:00 AM - 5.30 PM EST.'],\n",
       " 'package_label_principal_display_panel': ['Packaging Paracetamol2'],\n",
       " 'set_id': '2d345b38-4b89-4699-bc72-710685bee662',\n",
       " 'id': 'f42c0ea8-6233-bccf-e053-2995a90aa314',\n",
       " 'effective_time': '20230208',\n",
       " 'version': '2',\n",
       " 'openfda': {}}"
      ]
     },
     "execution_count": 14,
     "metadata": {},
     "output_type": "execute_result"
    }
   ],
   "source": [
    "response"
   ]
  },
  {
   "cell_type": "code",
   "execution_count": 17,
   "id": "a85fb4fc",
   "metadata": {},
   "outputs": [],
   "source": [
    "response = get_drug_label_info.invoke(\n",
    "    {\n",
    "        'ingredient': 'cetirizine'\n",
    "    }\n",
    ")"
   ]
  },
  {
   "cell_type": "code",
   "execution_count": 18,
   "id": "7370b681",
   "metadata": {},
   "outputs": [
    {
     "data": {
      "text/plain": [
       "{'spl_product_data_elements': ['Allergy Relief Cetirizine HCl 10 mg CETIRIZINE HYDROCHLORIDE CETIRIZINE HYPROMELLOSES LACTOSE MONOHYDRATE MAGNESIUM STEARATE CELLULOSE, MICROCRYSTALLINE POLYETHYLENE GLYCOL, UNSPECIFIED TITANIUM DIOXIDE SILICON DIOXIDE CROSCARMELLOSE SODIUM G;4 pillow-shaped'],\n",
       " 'active_ingredient': ['Active ingredient Cetirizine HCl 10 mg'],\n",
       " 'purpose': ['Purpose Antihistamine'],\n",
       " 'indications_and_usage': ['Uses temporarily relieves these symptoms due to hay fever or other upper respiratory allergies: runny nose sneezing itchy, watery eyes itching of the nose or throat'],\n",
       " 'warnings': ['Warnings Do not use if you have ever had an allergic reaction to this product or any of its ingredients, or to an antihistamine containing hydroxyzine Ask a doctor before use if you have liver or kidney disease. Your doctor should determine if you need a different dose. Ask doctor or pharmacist before use if you are taking sedatives or tranquilizers When using this product drowsiness may occur avoid alcoholic drinks alcohol, sedatives, and tranquilizers may increase drowsiness be careful when drivinga motor vehicle or operating machinery Stop use and ask doctor if an allergic reaction to this product occurs. Seek medical help right away. If pregnant or breast-feeding If pregnant or breast-feeding, ask a health professional before use.'],\n",
       " 'ask_doctor': ['Ask a doctor before use if you have liver or kidney disease. Your doctor should determine if you need a different dose.'],\n",
       " 'ask_doctor_or_pharmacist': ['Ask doctor or pharmacist before use if you are taking sedatives or tranquilizers'],\n",
       " 'when_using': ['When using this product drowsiness may occur avoid alcoholic drinks alcohol, sedatives, and tranquilizers may increase drowsiness be careful when drivinga motor vehicle or operating machinery'],\n",
       " 'stop_use': ['Stop use and ask doctor if an allergic reaction to this product occurs. Seek medical help right away.'],\n",
       " 'pregnancy_or_breast_feeding': ['If pregnant or breast-feeding If pregnant or breast-feeding, ask a health professional before use.'],\n",
       " 'keep_out_of_reach_of_children': ['Keep out of reach of children In case of accidental overdose, contact a doctor or Poison Control Center (1-800-222-1222) right away.'],\n",
       " 'dosage_and_administration': ['Directions Adults and children 6 years and over: one 10mg tablet once daily; do not take more than one 10mg tablet in 24 hours. A 5mg product may be appropriate for less severe symptoms Adults 65 years and over: ask a doctor Children under 6 years of age: ask a doctor Consumers with liver or kidney disease: ask a doctor'],\n",
       " 'spl_unclassified_section': ['Other information store between 20°C to 25°C (68°F to 77°F ) do not use if blister unit is broken or torn',\n",
       "  'Questions or comments? Call toll free 1-888-952-0050 Manufactured for A&Z Pharmaceutical, Inc. Hauppauge, NY 11788'],\n",
       " 'inactive_ingredient': ['Inactive Ingredients colloidal silicon dioxide, croscarmellose sodium, hypromellose, lactose monohydrate, magnesium stearate, microcrystalline cellulose, polyethylene glycol, titanium dioxide'],\n",
       " 'package_label_principal_display_panel': ['Package/Label Principal Display Panel Allergy Relief Allergy Relief'],\n",
       " 'set_id': '004c3ee5-8f32-4ebb-923b-e867b2976c2a',\n",
       " 'id': 'ce6d560c-49f6-4a85-bf9b-a816db6d3c8d',\n",
       " 'effective_time': '20190923',\n",
       " 'version': '2',\n",
       " 'openfda': {}}"
      ]
     },
     "execution_count": 18,
     "metadata": {},
     "output_type": "execute_result"
    }
   ],
   "source": [
    "response"
   ]
  },
  {
   "cell_type": "code",
   "execution_count": 20,
   "id": "18d7872e",
   "metadata": {},
   "outputs": [
    {
     "name": "stdout",
     "output_type": "stream",
     "text": [
      "✅ API Response:\n",
      "[{'DateObserved': '2025-07-29', 'HourObserved': 4, 'LocalTimeZone': 'PST', 'ReportingArea': 'NW Coastal LA', 'StateCode': 'CA', 'Latitude': 34.0505, 'Longitude': -118.4566, 'ParameterName': 'O3', 'AQI': 10, 'Category': {'Number': 1, 'Name': 'Good'}}]\n"
     ]
    }
   ],
   "source": [
    "import requests\n",
    "from dotenv import load_dotenv\n",
    "import os\n",
    "\n",
    "load_dotenv()\n",
    "\n",
    "API_KEY = os.getenv(\"AIR_QUALITY_API_KEY\")\n",
    "url = \"https://www.airnowapi.org/aq/observation/zipCode/current/\"\n",
    "\n",
    "params = {\n",
    "    \"format\": \"application/json\",\n",
    "    \"zipCode\": \"90210\",\n",
    "    \"distance\": 25,\n",
    "    \"API_KEY\": API_KEY\n",
    "}\n",
    "\n",
    "try:\n",
    "    response = requests.get(url, params=params, timeout=10)\n",
    "    response.raise_for_status()\n",
    "    data = response.json()\n",
    "    print(\"✅ API Response:\")\n",
    "    print(data)\n",
    "\n",
    "except requests.exceptions.HTTPError as errh:\n",
    "    print(\"❌ HTTP Error:\", errh)\n",
    "except requests.exceptions.ConnectionError as errc:\n",
    "    print(\"❌ Connection Error:\", errc)\n",
    "except requests.exceptions.Timeout as errt:\n",
    "    print(\"❌ Timeout Error:\", errt)\n",
    "except requests.exceptions.RequestException as err:\n",
    "    print(\"❌ Request Exception:\", err)\n"
   ]
  },
  {
   "cell_type": "markdown",
   "id": "baba4b42",
   "metadata": {},
   "source": [
    "[{'DateObserved': '2025-07-29', 'HourObserved': 4, 'LocalTimeZone': 'PST', 'ReportingArea': 'NW Coastal LA', 'StateCode': 'CA', 'Latitude': 34.0505, 'Longitude': -118.4566, 'ParameterName': 'O3', 'AQI': 10, 'Category': {'Number': 1, 'Name': 'Good'}}]"
   ]
  },
  {
   "cell_type": "code",
   "execution_count": 21,
   "id": "a5fed9ed",
   "metadata": {},
   "outputs": [],
   "source": [
    "import requests\n",
    "from langchain.tools import tool\n",
    "from dotenv import load_dotenv\n",
    "import os\n",
    "\n",
    "load_dotenv()\n",
    "\n",
    "@tool\n",
    "def get_air_quality_by_zip(zip_code: str) -> dict:\n",
    "    \"\"\"\n",
    "    Fetches current air quality index (AQI) information for a given U.S. ZIP code \n",
    "    using the AirNow API.\n",
    "\n",
    "    Args:\n",
    "        zip_code (str): A 5-digit U.S. ZIP code (e.g., '90210').\n",
    "\n",
    "    Returns:\n",
    "        dict: A dictionary with observed date, area, AQI value, pollutant name, and category.\n",
    "            Returns an error message if data is unavailable or the request fails.\n",
    "    \"\"\"\n",
    "    API_KEY = os.getenv(\"AIR_QUALITY_API_KEY\") \n",
    "    url = \"https://www.airnowapi.org/aq/observation/zipCode/current/\"\n",
    "\n",
    "    params = {\n",
    "        \"format\": \"application/json\",\n",
    "        \"zipCode\": zip_code,\n",
    "        \"distance\": 25,\n",
    "        \"API_KEY\": API_KEY\n",
    "    }\n",
    "\n",
    "    try:\n",
    "        response = requests.get(url, params=params, timeout=10)\n",
    "        response.raise_for_status()\n",
    "        data = response.json()\n",
    "\n",
    "        if not data:\n",
    "            return {\"message\": f\"No air quality data found for ZIP code {zip_code}.\"}\n",
    "\n",
    "        # Return first pollutant's data\n",
    "        pollutant = data[0]\n",
    "        return {\n",
    "            \"area\": pollutant[\"ReportingArea\"],\n",
    "            \"state\": pollutant[\"StateCode\"],\n",
    "            \"latitude\": pollutant[\"Latitude\"],\n",
    "            \"longitude\": pollutant[\"Longitude\"],\n",
    "            \"pollutant\": pollutant[\"ParameterName\"],\n",
    "            \"aqi\": pollutant[\"AQI\"],\n",
    "            \"category\": pollutant[\"Category\"][\"Name\"],\n",
    "            \"observed_date\": pollutant[\"DateObserved\"],\n",
    "            \"observed_hour\": pollutant[\"HourObserved\"],\n",
    "            \"timezone\": pollutant[\"LocalTimeZone\"]\n",
    "        }\n",
    "\n",
    "    except Exception as e:\n",
    "        return {\"error\": str(e)}\n"
   ]
  },
  {
   "cell_type": "code",
   "execution_count": 22,
   "id": "585d6679",
   "metadata": {},
   "outputs": [
    {
     "name": "stdout",
     "output_type": "stream",
     "text": [
      "{'area': 'NW Coastal LA', 'state': 'CA', 'latitude': 34.0505, 'longitude': -118.4566, 'pollutant': 'O3', 'aqi': 10, 'category': 'Good', 'observed_date': '2025-07-29', 'observed_hour': 4, 'timezone': 'PST'}\n"
     ]
    }
   ],
   "source": [
    "result = get_air_quality_by_zip.invoke({'zip_code': '90210'})\n",
    "print(result)"
   ]
  },
  {
   "cell_type": "markdown",
   "id": "e9863a66",
   "metadata": {},
   "source": [
    "{'area': 'NW Coastal LA', 'state': 'CA', 'latitude': 34.0505, 'longitude': -118.4566, 'pollutant': 'O3', 'aqi': 10, 'category': 'Good', 'observed_date': '2025-07-29', 'observed_hour': 4, 'timezone': 'PST'}"
   ]
  },
  {
   "cell_type": "code",
   "execution_count": 1,
   "id": "e7c1e4ad",
   "metadata": {},
   "outputs": [],
   "source": [
    "import os\n",
    "import httpx\n",
    "from dotenv import load_dotenv\n",
    "\n",
    "load_dotenv()\n",
    "\n",
    "async def get_geocode_locationiq(place):\n",
    "    url = \"https://us1.locationiq.com/v1/search.php\"\n",
    "    params = {\"key\": os.getenv(\"GEOLOCATION_IQ_API_KEY\"), \"q\": place, \"format\": \"json\"}\n",
    "    async with httpx.AsyncClient() as client:\n",
    "        res = await client.get(url, params=params)\n",
    "        data = res.json()\n",
    "        if data:\n",
    "            return float(data[0][\"lat\"]), float(data[0][\"lon\"])\n",
    "        else:\n",
    "            return None"
   ]
  },
  {
   "cell_type": "code",
   "execution_count": 12,
   "id": "cedfd8f9",
   "metadata": {},
   "outputs": [],
   "source": [
    "from typing import Optional\n",
    "from urllib.parse import quote_plus\n",
    "import pymongo\n",
    "import certifi\n",
    "from pymongo.errors import ConnectionFailure\n",
    "from langchain.tools import tool\n",
    "import os\n",
    "from dotenv import load_dotenv\n",
    "\n",
    "# Load environment variables\n",
    "load_dotenv()\n",
    "\n",
    "# Safe encoding for MongoDB URI\n",
    "safe_username = quote_plus(os.getenv(\"MONGO_USERNAME\", \"\"))\n",
    "safe_password = quote_plus(os.getenv(\"MONGO_PASSWORD\", \"\"))\n",
    "MONGO_URI = (\n",
    "    f\"mongodb+srv://{safe_username}:{safe_password}\"\n",
    "    f\"@happmongocluster.mongocluster.cosmos.azure.com/\"\n",
    "    f\"?tls=true&authMechanism=SCRAM-SHA-256&retrywrites=false&maxIdleTimeMS=120000\"\n",
    ")\n",
    "\n",
    "DB_NAME = os.getenv(\"DB_NAME\")\n",
    "COLLECTION_NAME = os.getenv(\"COLLECTION_NAME\")\n",
    "\n",
    "\n",
    "@tool\n",
    "def lookup_provider_info(\n",
    "    practice_city_name: str,\n",
    "    entity_type: str = \"Organization\",\n",
    "    npi_number: Optional[int] = None,\n",
    "    provider_first_name: Optional[str] = None,\n",
    "    provider_last_name_legal: Optional[str] = None,\n",
    "    practice_state_name: Optional[str] = None,\n",
    "    taxonomy_code: Optional[str] = None,\n",
    "    is_primary_taxonomy: Optional[bool] = None,\n",
    "    practice_street_address: Optional[str] = None,\n",
    "    limit: int = 10,\n",
    ") -> list[dict]:\n",
    "    \"\"\"\n",
    "    Fetch provider details from MongoDB based on city, entity type, and optional filters.\n",
    "\n",
    "    Required:\n",
    "        - practice_city_name (str): City where the provider practices.\n",
    "\n",
    "    Optional:\n",
    "        - entity_type (str): Default is 'Organization'.\n",
    "        - npi_number (int)\n",
    "        - provider_first_name (str)\n",
    "        - provider_last_name_legal (str)\n",
    "        - practice_state_name (str)\n",
    "        - taxonomy_code (str)\n",
    "        - is_primary_taxonomy (bool)\n",
    "        - practice_street_address (str): Fuzzy partial match allowed\n",
    "        - limit (int): Max results (default: 10)\n",
    "\n",
    "    Returns:\n",
    "        A list of provider records.\n",
    "    \"\"\"\n",
    "\n",
    "    query = {\n",
    "        \"practice_city_name\": {\"$regex\": f\"^{practice_city_name.strip()}$\", \"$options\": \"i\"},\n",
    "        \"entity_type\": entity_type\n",
    "    }\n",
    "\n",
    "    if npi_number:\n",
    "        query[\"npi_number\"] = npi_number\n",
    "\n",
    "    if provider_first_name:\n",
    "        query[\"provider_first_name\"] = {\"$regex\": f\"^{provider_first_name.strip()}$\", \"$options\": \"i\"}\n",
    "\n",
    "    if provider_last_name_legal:\n",
    "        query[\"provider_last_name_legal\"] = {\"$regex\": f\"^{provider_last_name_legal.strip()}$\", \"$options\": \"i\"}\n",
    "\n",
    "    if practice_state_name:\n",
    "        query[\"practice_state_name\"] = practice_state_name.strip().upper()\n",
    "\n",
    "    if practice_street_address:\n",
    "        # Fuzzy partial match (case-insensitive, flexible)\n",
    "        query[\"practice_street_address\"] = {\n",
    "            \"$regex\": f\".*{practice_street_address.strip()}.*\",\n",
    "            \"$options\": \"i\"\n",
    "        }\n",
    "\n",
    "    if taxonomy_code:\n",
    "        if is_primary_taxonomy:\n",
    "            query[\"primary_taxonomy_code\"] = taxonomy_code\n",
    "        else:\n",
    "            query[\"taxonomy_codes_list\"] = taxonomy_code\n",
    "\n",
    "    try:\n",
    "        client = pymongo.MongoClient(MONGO_URI, tlsCAFile=certifi.where())\n",
    "        db = client[DB_NAME]\n",
    "        collection = db[COLLECTION_NAME]\n",
    "        print(\"✅ Connected to MongoDB.\")\n",
    "\n",
    "        results = list(collection.find(query, {\"_id\": 0}).limit(limit))\n",
    "        print(f\"🔍 Found {len(results)} result(s).\")\n",
    "        return results\n",
    "\n",
    "    except ConnectionFailure:\n",
    "        print(\"❌ MongoDB connection failed.\")\n",
    "        return []\n",
    "    except Exception as e:\n",
    "        print(f\"❌ Error: {e}\")\n",
    "        return []\n",
    "    finally:\n",
    "        if client:\n",
    "            client.close()\n",
    "            print(\"🔌 MongoDB connection closed.\")"
   ]
  },
  {
   "cell_type": "code",
   "execution_count": 13,
   "id": "2e6fba58",
   "metadata": {},
   "outputs": [
    {
     "name": "stdout",
     "output_type": "stream",
     "text": [
      "Fetch provider details from MongoDB based on city, entity type, and optional filters.\n",
      "\n",
      "Required:\n",
      "    - practice_city_name (str): City where the provider practices.\n",
      "\n",
      "Optional:\n",
      "    - entity_type (str): Default is 'Organization'.\n",
      "    - npi_number (int)\n",
      "    - provider_first_name (str)\n",
      "    - provider_last_name_legal (str)\n",
      "    - practice_state_name (str)\n",
      "    - taxonomy_code (str)\n",
      "    - is_primary_taxonomy (bool)\n",
      "    - practice_street_address (str): Fuzzy partial match allowed\n",
      "    - limit (int): Max results (default: 10)\n",
      "\n",
      "Returns:\n",
      "    A list of provider records.\n"
     ]
    }
   ],
   "source": [
    "print(lookup_provider_info.description)"
   ]
  },
  {
   "cell_type": "code",
   "execution_count": 14,
   "id": "057b106d",
   "metadata": {},
   "outputs": [
    {
     "data": {
      "text/plain": [
       "{'practice_city_name': {'title': 'Practice City Name', 'type': 'string'},\n",
       " 'entity_type': {'default': 'Organization',\n",
       "  'title': 'Entity Type',\n",
       "  'type': 'string'},\n",
       " 'npi_number': {'anyOf': [{'type': 'integer'}, {'type': 'null'}],\n",
       "  'default': None,\n",
       "  'title': 'Npi Number'},\n",
       " 'provider_first_name': {'anyOf': [{'type': 'string'}, {'type': 'null'}],\n",
       "  'default': None,\n",
       "  'title': 'Provider First Name'},\n",
       " 'provider_last_name_legal': {'anyOf': [{'type': 'string'}, {'type': 'null'}],\n",
       "  'default': None,\n",
       "  'title': 'Provider Last Name Legal'},\n",
       " 'practice_state_name': {'anyOf': [{'type': 'string'}, {'type': 'null'}],\n",
       "  'default': None,\n",
       "  'title': 'Practice State Name'},\n",
       " 'taxonomy_code': {'anyOf': [{'type': 'string'}, {'type': 'null'}],\n",
       "  'default': None,\n",
       "  'title': 'Taxonomy Code'},\n",
       " 'is_primary_taxonomy': {'anyOf': [{'type': 'boolean'}, {'type': 'null'}],\n",
       "  'default': None,\n",
       "  'title': 'Is Primary Taxonomy'},\n",
       " 'practice_street_address': {'anyOf': [{'type': 'string'}, {'type': 'null'}],\n",
       "  'default': None,\n",
       "  'title': 'Practice Street Address'},\n",
       " 'limit': {'default': 10, 'title': 'Limit', 'type': 'integer'}}"
      ]
     },
     "execution_count": 14,
     "metadata": {},
     "output_type": "execute_result"
    }
   ],
   "source": [
    "lookup_provider_info.args"
   ]
  },
  {
   "cell_type": "code",
   "execution_count": 15,
   "id": "ac0499a5",
   "metadata": {},
   "outputs": [
    {
     "name": "stderr",
     "output_type": "stream",
     "text": [
      "C:\\Users\\Bapan Bairagya\\AppData\\Local\\Temp\\ipykernel_7380\\1313246844.py:91: UserWarning: You appear to be connected to a CosmosDB cluster. For more information regarding feature compatibility and support please visit https://www.mongodb.com/supportability/cosmosdb\n",
      "  client = pymongo.MongoClient(MONGO_URI, tlsCAFile=certifi.where())\n",
      "d:\\API Developement\\multi_agents_health_wellness_app\\.venv\\Lib\\site-packages\\pymongo\\synchronous\\mongo_client.py:1737: UserWarning: You appear to be connected to a CosmosDB cluster. For more information regarding feature compatibility and support please visit https://www.mongodb.com/supportability/cosmosdb\n",
      "  self._resolve_srv()\n"
     ]
    },
    {
     "name": "stdout",
     "output_type": "stream",
     "text": [
      "✅ Connected to MongoDB.\n",
      "🔍 Found 10 result(s).\n",
      "🔌 MongoDB connection closed.\n"
     ]
    },
    {
     "data": {
      "text/plain": [
       "10"
      ]
     },
     "execution_count": 15,
     "metadata": {},
     "output_type": "execute_result"
    }
   ],
   "source": [
    "response = lookup_provider_info.invoke(\n",
    "    {\n",
    "        'practice_city_name': \"Fort Worth\"\n",
    "    }\n",
    ")\n",
    "\n",
    "len(response)"
   ]
  },
  {
   "cell_type": "code",
   "execution_count": 16,
   "id": "3c2c4eb1",
   "metadata": {},
   "outputs": [
    {
     "data": {
      "text/plain": [
       "[{'npi_number': 1710971890,\n",
       "  'entity_type': 'Organization',\n",
       "  'provider_org_name_legal': 'JRL PROPERTIES INTERNATIONAL, INC.',\n",
       "  'provider_last_name_legal': nan,\n",
       "  'provider_first_name': nan,\n",
       "  'practice_city_name': 'FORT WORTH',\n",
       "  'practice_state_name': 'TX',\n",
       "  'practice_postal_code': 761042226,\n",
       "  'practice_street_address': '901 PENNSYLVANIA AVE',\n",
       "  'practice_phone_number': '8173353030',\n",
       "  'taxonomy_codes_list': ['314000000X'],\n",
       "  'primary_taxonomy_code': '314000000X'},\n",
       " {'npi_number': 1851385595,\n",
       "  'entity_type': 'Organization',\n",
       "  'provider_org_name_legal': 'MEDICINE STORE PHARMACY',\n",
       "  'provider_last_name_legal': nan,\n",
       "  'provider_first_name': nan,\n",
       "  'practice_city_name': 'FORT WORTH',\n",
       "  'practice_state_name': 'TX',\n",
       "  'practice_postal_code': 761044909,\n",
       "  'practice_street_address': '1400 S MAIN ST',\n",
       "  'practice_phone_number': '8173380628',\n",
       "  'taxonomy_codes_list': ['183500000X'],\n",
       "  'primary_taxonomy_code': '183500000X'},\n",
       " {'npi_number': 1447244975,\n",
       "  'entity_type': 'Organization',\n",
       "  'provider_org_name_legal': 'FT WORTH NEUROLOGY CONSULTANTS PA',\n",
       "  'provider_last_name_legal': nan,\n",
       "  'provider_first_name': nan,\n",
       "  'practice_city_name': 'FORT WORTH',\n",
       "  'practice_state_name': 'TX',\n",
       "  'practice_postal_code': 761044137,\n",
       "  'practice_street_address': '1307 8TH AVE',\n",
       "  'practice_phone_number': '8179200900',\n",
       "  'taxonomy_codes_list': ['2084N0400X'],\n",
       "  'primary_taxonomy_code': '2084N0400X'},\n",
       " {'npi_number': 1952396004,\n",
       "  'entity_type': 'Organization',\n",
       "  'provider_org_name_legal': 'MOTUS CENTER, INC.',\n",
       "  'provider_last_name_legal': nan,\n",
       "  'provider_first_name': nan,\n",
       "  'practice_city_name': 'FORT WORTH',\n",
       "  'practice_state_name': 'TX',\n",
       "  'practice_postal_code': 761073954,\n",
       "  'practice_street_address': '3857 WASHBURN AVE',\n",
       "  'practice_phone_number': '8177328050',\n",
       "  'taxonomy_codes_list': ['261Q00000X'],\n",
       "  'primary_taxonomy_code': '261Q00000X'},\n",
       " {'npi_number': 1184619082,\n",
       "  'entity_type': 'Organization',\n",
       "  'provider_org_name_legal': 'JPS PHYSICIAN GROUP INC',\n",
       "  'provider_last_name_legal': nan,\n",
       "  'provider_first_name': nan,\n",
       "  'practice_city_name': 'FORT WORTH',\n",
       "  'practice_state_name': 'TX',\n",
       "  'practice_postal_code': 761044917,\n",
       "  'practice_street_address': '1500 S MAIN ST',\n",
       "  'practice_phone_number': '8178528440',\n",
       "  'taxonomy_codes_list': ['282N00000X'],\n",
       "  'primary_taxonomy_code': '282N00000X'},\n",
       " {'npi_number': 1154317394,\n",
       "  'entity_type': 'Organization',\n",
       "  'provider_org_name_legal': 'ANESTHESIA ASSOCIATES, PA',\n",
       "  'provider_last_name_legal': nan,\n",
       "  'provider_first_name': nan,\n",
       "  'practice_city_name': 'FORT WORTH',\n",
       "  'practice_state_name': 'TX',\n",
       "  'practice_postal_code': 761094415,\n",
       "  'practice_street_address': '4916 OVERTON PLZ',\n",
       "  'practice_phone_number': '8173340530',\n",
       "  'taxonomy_codes_list': ['367500000X', '207L00000X'],\n",
       "  'primary_taxonomy_code': '207L00000X'},\n",
       " {'npi_number': 1497741540,\n",
       "  'entity_type': 'Organization',\n",
       "  'provider_org_name_legal': 'LEGACY HEART CARE INC',\n",
       "  'provider_last_name_legal': nan,\n",
       "  'provider_first_name': nan,\n",
       "  'practice_city_name': 'FORT WORTH',\n",
       "  'practice_state_name': 'TX',\n",
       "  'practice_postal_code': 761025848,\n",
       "  'practice_street_address': '2500 WEST FWY',\n",
       "  'practice_phone_number': '8174234400',\n",
       "  'taxonomy_codes_list': ['207RC0000X', '207R00000X'],\n",
       "  'primary_taxonomy_code': None},\n",
       " {'npi_number': 1083600076,\n",
       "  'entity_type': 'Organization',\n",
       "  'provider_org_name_legal': 'RIVER VALLEY ANESTHESIA & PAIN MANAGEMENT,PA',\n",
       "  'provider_last_name_legal': nan,\n",
       "  'provider_first_name': nan,\n",
       "  'practice_city_name': 'FORT WORTH',\n",
       "  'practice_state_name': 'TX',\n",
       "  'practice_postal_code': 761094415,\n",
       "  'practice_street_address': '4916 OVERTON PLZ',\n",
       "  'practice_phone_number': '8002702216',\n",
       "  'taxonomy_codes_list': ['207L00000X'],\n",
       "  'primary_taxonomy_code': '207L00000X'},\n",
       " {'npi_number': 1144216912,\n",
       "  'entity_type': 'Organization',\n",
       "  'provider_org_name_legal': 'WELLINGTON OAKS NURSING AND REHABILITATION LP',\n",
       "  'provider_last_name_legal': nan,\n",
       "  'provider_first_name': nan,\n",
       "  'practice_city_name': 'FORT WORTH',\n",
       "  'practice_state_name': 'TX',\n",
       "  'practice_postal_code': 761043324,\n",
       "  'practice_street_address': '701 SAINT LOUIS AVE',\n",
       "  'practice_phone_number': '8173329962',\n",
       "  'taxonomy_codes_list': ['314000000X'],\n",
       "  'primary_taxonomy_code': '314000000X'},\n",
       " {'npi_number': 1871589648,\n",
       "  'entity_type': 'Organization',\n",
       "  'provider_org_name_legal': 'MARINE CREEK NURSING AND REHABILITATION LP',\n",
       "  'provider_last_name_legal': nan,\n",
       "  'provider_first_name': nan,\n",
       "  'practice_city_name': 'FORT WORTH',\n",
       "  'practice_state_name': 'TX',\n",
       "  'practice_postal_code': 761063559,\n",
       "  'practice_street_address': '3600 ANGLE AVE',\n",
       "  'practice_phone_number': '8176246164',\n",
       "  'taxonomy_codes_list': ['314000000X'],\n",
       "  'primary_taxonomy_code': '314000000X'}]"
      ]
     },
     "execution_count": 16,
     "metadata": {},
     "output_type": "execute_result"
    }
   ],
   "source": [
    "response"
   ]
  },
  {
   "cell_type": "code",
   "execution_count": 17,
   "id": "d199350c",
   "metadata": {},
   "outputs": [
    {
     "name": "stderr",
     "output_type": "stream",
     "text": [
      "C:\\Users\\Bapan Bairagya\\AppData\\Local\\Temp\\ipykernel_7380\\1313246844.py:91: UserWarning: You appear to be connected to a CosmosDB cluster. For more information regarding feature compatibility and support please visit https://www.mongodb.com/supportability/cosmosdb\n",
      "  client = pymongo.MongoClient(MONGO_URI, tlsCAFile=certifi.where())\n",
      "d:\\API Developement\\multi_agents_health_wellness_app\\.venv\\Lib\\site-packages\\pymongo\\synchronous\\mongo_client.py:1737: UserWarning: You appear to be connected to a CosmosDB cluster. For more information regarding feature compatibility and support please visit https://www.mongodb.com/supportability/cosmosdb\n",
      "  self._resolve_srv()\n"
     ]
    },
    {
     "name": "stdout",
     "output_type": "stream",
     "text": [
      "✅ Connected to MongoDB.\n",
      "🔍 Found 10 result(s).\n",
      "🔌 MongoDB connection closed.\n"
     ]
    },
    {
     "data": {
      "text/plain": [
       "10"
      ]
     },
     "execution_count": 17,
     "metadata": {},
     "output_type": "execute_result"
    }
   ],
   "source": [
    "response = lookup_provider_info.invoke(\n",
    "    {\n",
    "        \"practice_city_name\": \"LUBBOCK\",\n",
    "        'is_primary_taxonomy': True\n",
    "    }\n",
    ")\n",
    "\n",
    "len(response)"
   ]
  },
  {
   "cell_type": "code",
   "execution_count": 18,
   "id": "e09e67c8",
   "metadata": {},
   "outputs": [
    {
     "data": {
      "text/plain": [
       "[{'npi_number': 1295721066,\n",
       "  'entity_type': 'Organization',\n",
       "  'provider_org_name_legal': 'LUBBOCK DERMATOLOGY AND SKIN CANCER CENTER',\n",
       "  'provider_last_name_legal': nan,\n",
       "  'provider_first_name': nan,\n",
       "  'practice_city_name': 'LUBBOCK',\n",
       "  'practice_state_name': 'TX',\n",
       "  'practice_postal_code': 794101309,\n",
       "  'practice_street_address': '3601 22ND ST',\n",
       "  'practice_phone_number': '8067967193',\n",
       "  'taxonomy_codes_list': ['207N00000X'],\n",
       "  'primary_taxonomy_code': '207N00000X'},\n",
       " {'npi_number': 1447247507,\n",
       "  'entity_type': 'Organization',\n",
       "  'provider_org_name_legal': 'DR.SUTTER & DR.PHAN',\n",
       "  'provider_last_name_legal': nan,\n",
       "  'provider_first_name': nan,\n",
       "  'practice_city_name': 'LUBBOCK',\n",
       "  'practice_state_name': 'TX',\n",
       "  'practice_postal_code': 794101203,\n",
       "  'practice_street_address': '3615 19TH ST',\n",
       "  'practice_phone_number': '8067254212',\n",
       "  'taxonomy_codes_list': ['174400000X'],\n",
       "  'primary_taxonomy_code': '174400000X'},\n",
       " {'npi_number': 1528056975,\n",
       "  'entity_type': 'Organization',\n",
       "  'provider_org_name_legal': 'GINTER EYECARE CENTER INC.',\n",
       "  'provider_last_name_legal': nan,\n",
       "  'provider_first_name': nan,\n",
       "  'practice_city_name': 'LUBBOCK',\n",
       "  'practice_state_name': 'TX',\n",
       "  'practice_postal_code': 794240822,\n",
       "  'practice_street_address': '6010 82ND ST STE 100',\n",
       "  'practice_phone_number': '8067988820',\n",
       "  'taxonomy_codes_list': ['152WC0802X', '152WP0200X', '152W00000X'],\n",
       "  'primary_taxonomy_code': '152W00000X'},\n",
       " {'npi_number': 1639167794,\n",
       "  'entity_type': 'Organization',\n",
       "  'provider_org_name_legal': 'FREEDOM2GO LLC',\n",
       "  'provider_last_name_legal': nan,\n",
       "  'provider_first_name': nan,\n",
       "  'practice_city_name': 'LUBBOCK',\n",
       "  'practice_state_name': 'TX',\n",
       "  'practice_postal_code': 794143421,\n",
       "  'practice_street_address': '5002 50TH ST',\n",
       "  'practice_phone_number': '8066996188',\n",
       "  'taxonomy_codes_list': ['332B00000X'],\n",
       "  'primary_taxonomy_code': '332B00000X'},\n",
       " {'npi_number': 1740279330,\n",
       "  'entity_type': 'Organization',\n",
       "  'provider_org_name_legal': 'COENANT HEALTH SYSTEM',\n",
       "  'provider_last_name_legal': nan,\n",
       "  'provider_first_name': nan,\n",
       "  'practice_city_name': 'LUBBOCK',\n",
       "  'practice_state_name': 'TX',\n",
       "  'practice_postal_code': 794144841,\n",
       "  'practice_street_address': '4709 66TH ST',\n",
       "  'practice_phone_number': '8067258400',\n",
       "  'taxonomy_codes_list': ['251E00000X'],\n",
       "  'primary_taxonomy_code': '251E00000X'},\n",
       " {'npi_number': 1821087164,\n",
       "  'entity_type': 'Organization',\n",
       "  'provider_org_name_legal': 'LUBBOCK COUNTY HOSPITAL DISTRICT',\n",
       "  'provider_last_name_legal': nan,\n",
       "  'provider_first_name': nan,\n",
       "  'practice_city_name': 'LUBBOCK',\n",
       "  'practice_state_name': 'TX',\n",
       "  'practice_postal_code': 794153364,\n",
       "  'practice_street_address': '602 INDIANA AVE',\n",
       "  'practice_phone_number': '8067758200',\n",
       "  'taxonomy_codes_list': ['282N00000X'],\n",
       "  'primary_taxonomy_code': '282N00000X'},\n",
       " {'npi_number': 1700875903,\n",
       "  'entity_type': 'Organization',\n",
       "  'provider_org_name_legal': 'HOSPICE OF LUBBOCK INC',\n",
       "  'provider_last_name_legal': nan,\n",
       "  'provider_first_name': nan,\n",
       "  'practice_city_name': 'LUBBOCK',\n",
       "  'practice_state_name': 'TX',\n",
       "  'practice_postal_code': 794101229,\n",
       "  'practice_street_address': '3702 21ST ST',\n",
       "  'practice_phone_number': '8067952751',\n",
       "  'taxonomy_codes_list': ['251G00000X'],\n",
       "  'primary_taxonomy_code': '251G00000X'},\n",
       " {'npi_number': 1568451763,\n",
       "  'entity_type': 'Organization',\n",
       "  'provider_org_name_legal': \"METHODIST CHILDREN'S HOSPITAL\",\n",
       "  'provider_last_name_legal': nan,\n",
       "  'provider_first_name': nan,\n",
       "  'practice_city_name': 'LUBBOCK',\n",
       "  'practice_state_name': 'TX',\n",
       "  'practice_postal_code': 794101145,\n",
       "  'practice_street_address': '4002 22ND PL',\n",
       "  'practice_phone_number': '8067256327',\n",
       "  'taxonomy_codes_list': ['333600000X',\n",
       "   '3336C0004X',\n",
       "   '3336S0011X',\n",
       "   '3336H0001X'],\n",
       "  'primary_taxonomy_code': '3336H0001X'},\n",
       " {'npi_number': 1508855578,\n",
       "  'entity_type': 'Organization',\n",
       "  'provider_org_name_legal': 'LUBBOCK COUNTY HOSPITAL DISTRICT',\n",
       "  'provider_last_name_legal': nan,\n",
       "  'provider_first_name': nan,\n",
       "  'practice_city_name': 'LUBBOCK',\n",
       "  'practice_state_name': 'TX',\n",
       "  'practice_postal_code': 794153364,\n",
       "  'practice_street_address': '602 INDIANA AVE',\n",
       "  'practice_phone_number': '8067610843',\n",
       "  'taxonomy_codes_list': ['207P00000X'],\n",
       "  'primary_taxonomy_code': '207P00000X'},\n",
       " {'npi_number': 1275524027,\n",
       "  'entity_type': 'Organization',\n",
       "  'provider_org_name_legal': 'CARILLON, INC.',\n",
       "  'provider_last_name_legal': nan,\n",
       "  'provider_first_name': nan,\n",
       "  'practice_city_name': 'LUBBOCK',\n",
       "  'practice_state_name': 'TX',\n",
       "  'practice_postal_code': '79416',\n",
       "  'practice_street_address': '1717 NORFOLK AVE',\n",
       "  'practice_phone_number': '8062816000',\n",
       "  'taxonomy_codes_list': ['311500000X',\n",
       "   '310400000X',\n",
       "   '310400000X',\n",
       "   '314000000X'],\n",
       "  'primary_taxonomy_code': '314000000X'}]"
      ]
     },
     "execution_count": 18,
     "metadata": {},
     "output_type": "execute_result"
    }
   ],
   "source": [
    "response"
   ]
  },
  {
   "cell_type": "code",
   "execution_count": 19,
   "id": "4ad76b94",
   "metadata": {},
   "outputs": [
    {
     "name": "stderr",
     "output_type": "stream",
     "text": [
      "C:\\Users\\Bapan Bairagya\\AppData\\Local\\Temp\\ipykernel_7380\\1313246844.py:91: UserWarning: You appear to be connected to a CosmosDB cluster. For more information regarding feature compatibility and support please visit https://www.mongodb.com/supportability/cosmosdb\n",
      "  client = pymongo.MongoClient(MONGO_URI, tlsCAFile=certifi.where())\n",
      "d:\\API Developement\\multi_agents_health_wellness_app\\.venv\\Lib\\site-packages\\pymongo\\synchronous\\mongo_client.py:1737: UserWarning: You appear to be connected to a CosmosDB cluster. For more information regarding feature compatibility and support please visit https://www.mongodb.com/supportability/cosmosdb\n",
      "  self._resolve_srv()\n"
     ]
    },
    {
     "name": "stdout",
     "output_type": "stream",
     "text": [
      "✅ Connected to MongoDB.\n",
      "🔍 Found 10 result(s).\n",
      "🔌 MongoDB connection closed.\n"
     ]
    },
    {
     "data": {
      "text/plain": [
       "10"
      ]
     },
     "execution_count": 19,
     "metadata": {},
     "output_type": "execute_result"
    }
   ],
   "source": [
    "response = lookup_provider_info.invoke(\n",
    "    {\n",
    "        \"practice_city_name\": \"Houston\",\n",
    "        \"practice_street_address\": \"Gessner\"\n",
    "    }\n",
    ")\n",
    "\n",
    "len(response)"
   ]
  },
  {
   "cell_type": "code",
   "execution_count": 20,
   "id": "9af555c4",
   "metadata": {},
   "outputs": [
    {
     "data": {
      "text/plain": [
       "[{'npi_number': 1518941228,\n",
       "  'entity_type': 'Organization',\n",
       "  'provider_org_name_legal': 'SHELLY K. BROLINE MD PA',\n",
       "  'provider_last_name_legal': nan,\n",
       "  'provider_first_name': nan,\n",
       "  'practice_city_name': 'HOUSTON',\n",
       "  'practice_state_name': 'TX',\n",
       "  'practice_postal_code': 770242501,\n",
       "  'practice_street_address': '921 GESSNER RD',\n",
       "  'practice_phone_number': '7134321100',\n",
       "  'taxonomy_codes_list': ['207U00000X'],\n",
       "  'primary_taxonomy_code': '207U00000X'},\n",
       " {'npi_number': 1174593032,\n",
       "  'entity_type': 'Organization',\n",
       "  'provider_org_name_legal': 'HOUSTON NEPHROLOGY GROUP, P.A.',\n",
       "  'provider_last_name_legal': nan,\n",
       "  'provider_first_name': nan,\n",
       "  'practice_city_name': 'HOUSTON',\n",
       "  'practice_state_name': 'TX',\n",
       "  'practice_postal_code': 770242527,\n",
       "  'practice_street_address': '915 GESSNER RD',\n",
       "  'practice_phone_number': '7134685440',\n",
       "  'taxonomy_codes_list': ['207RN0300X'],\n",
       "  'primary_taxonomy_code': '207RN0300X'},\n",
       " {'npi_number': 1619942778,\n",
       "  'entity_type': 'Organization',\n",
       "  'provider_org_name_legal': 'DIGESTIVE & LIVER SPECIALISTS',\n",
       "  'provider_last_name_legal': nan,\n",
       "  'provider_first_name': nan,\n",
       "  'practice_city_name': 'HOUSTON',\n",
       "  'practice_state_name': 'TX',\n",
       "  'practice_postal_code': 770242527,\n",
       "  'practice_street_address': '915 GESSNER RD',\n",
       "  'practice_phone_number': '7134611026',\n",
       "  'taxonomy_codes_list': ['207RG0100X'],\n",
       "  'primary_taxonomy_code': '207RG0100X'},\n",
       " {'npi_number': 1770542458,\n",
       "  'entity_type': 'Organization',\n",
       "  'provider_org_name_legal': 'GREAT KIDS PEDIATRICS',\n",
       "  'provider_last_name_legal': nan,\n",
       "  'provider_first_name': nan,\n",
       "  'practice_city_name': 'HOUSTON',\n",
       "  'practice_state_name': 'TX',\n",
       "  'practice_postal_code': 770242527,\n",
       "  'practice_street_address': '915 GESSNER RD',\n",
       "  'practice_phone_number': '7139326261',\n",
       "  'taxonomy_codes_list': ['208000000X'],\n",
       "  'primary_taxonomy_code': '208000000X'},\n",
       " {'npi_number': 1679533418,\n",
       "  'entity_type': 'Organization',\n",
       "  'provider_org_name_legal': 'ONCOLOGY CONSULTANTS, P. A.',\n",
       "  'provider_last_name_legal': nan,\n",
       "  'provider_first_name': nan,\n",
       "  'practice_city_name': 'HOUSTON',\n",
       "  'practice_state_name': 'TX',\n",
       "  'practice_postal_code': 770242645,\n",
       "  'practice_street_address': '925 GESSNER RD STE 600',\n",
       "  'practice_phone_number': '7138279525',\n",
       "  'taxonomy_codes_list': ['207RH0003X'],\n",
       "  'primary_taxonomy_code': '207RH0003X'},\n",
       " {'npi_number': 1619935640,\n",
       "  'entity_type': 'Organization',\n",
       "  'provider_org_name_legal': 'METRO WEST',\n",
       "  'provider_last_name_legal': nan,\n",
       "  'provider_first_name': nan,\n",
       "  'practice_city_name': 'HOUSTON',\n",
       "  'practice_state_name': 'TX',\n",
       "  'practice_postal_code': 770242501,\n",
       "  'practice_street_address': '921 GESSNER RD',\n",
       "  'practice_phone_number': '7132423439',\n",
       "  'taxonomy_codes_list': ['282N00000X'],\n",
       "  'primary_taxonomy_code': '282N00000X'},\n",
       " {'npi_number': 1073566196,\n",
       "  'entity_type': 'Organization',\n",
       "  'provider_org_name_legal': 'E PLUS PET IMAGING VII LP',\n",
       "  'provider_last_name_legal': nan,\n",
       "  'provider_first_name': nan,\n",
       "  'practice_city_name': 'HOUSTON',\n",
       "  'practice_state_name': 'TX',\n",
       "  'practice_postal_code': 770242545,\n",
       "  'practice_street_address': '925 GESSNER RD',\n",
       "  'practice_phone_number': '7139732115',\n",
       "  'taxonomy_codes_list': ['261QR0200X'],\n",
       "  'primary_taxonomy_code': '261QR0200X'},\n",
       " {'npi_number': 1740233782,\n",
       "  'entity_type': 'Organization',\n",
       "  'provider_org_name_legal': 'MEMORIAL HERMANN HEALTH SYSTEM',\n",
       "  'provider_last_name_legal': nan,\n",
       "  'provider_first_name': nan,\n",
       "  'practice_city_name': 'HOUSTON',\n",
       "  'practice_state_name': 'TX',\n",
       "  'practice_postal_code': 770242501,\n",
       "  'practice_street_address': '921 GESSNER RD',\n",
       "  'practice_phone_number': '7132423000',\n",
       "  'taxonomy_codes_list': ['261QA1903X', '282N00000X'],\n",
       "  'primary_taxonomy_code': '282N00000X'},\n",
       " {'npi_number': 1003862301,\n",
       "  'entity_type': 'Organization',\n",
       "  'provider_org_name_legal': 'SOUTHWEST EMPOWERMENT CENTER, INC.',\n",
       "  'provider_last_name_legal': nan,\n",
       "  'provider_first_name': nan,\n",
       "  'practice_city_name': 'HOUSTON',\n",
       "  'practice_state_name': 'TX',\n",
       "  'practice_postal_code': 770633217,\n",
       "  'practice_street_address': '2600 S. GESSNER RD.',\n",
       "  'practice_phone_number': '7138850953',\n",
       "  'taxonomy_codes_list': ['251E00000X'],\n",
       "  'primary_taxonomy_code': '251E00000X'},\n",
       " {'npi_number': 1760423263,\n",
       "  'entity_type': 'Organization',\n",
       "  'provider_org_name_legal': 'HOUSTON CARDIAC CLINIC P.A.',\n",
       "  'provider_last_name_legal': nan,\n",
       "  'provider_first_name': nan,\n",
       "  'practice_city_name': 'HOUSTON',\n",
       "  'practice_state_name': 'TX',\n",
       "  'practice_postal_code': 770242545,\n",
       "  'practice_street_address': '925 GESSNER RD',\n",
       "  'practice_phone_number': '7138277680',\n",
       "  'taxonomy_codes_list': ['207RC0000X'],\n",
       "  'primary_taxonomy_code': '207RC0000X'}]"
      ]
     },
     "execution_count": 20,
     "metadata": {},
     "output_type": "execute_result"
    }
   ],
   "source": [
    "response"
   ]
  },
  {
   "cell_type": "code",
   "execution_count": 21,
   "id": "772ee434",
   "metadata": {},
   "outputs": [
    {
     "name": "stderr",
     "output_type": "stream",
     "text": [
      "C:\\Users\\Bapan Bairagya\\AppData\\Local\\Temp\\ipykernel_7380\\1313246844.py:91: UserWarning: You appear to be connected to a CosmosDB cluster. For more information regarding feature compatibility and support please visit https://www.mongodb.com/supportability/cosmosdb\n",
      "  client = pymongo.MongoClient(MONGO_URI, tlsCAFile=certifi.where())\n",
      "d:\\API Developement\\multi_agents_health_wellness_app\\.venv\\Lib\\site-packages\\pymongo\\synchronous\\mongo_client.py:1737: UserWarning: You appear to be connected to a CosmosDB cluster. For more information regarding feature compatibility and support please visit https://www.mongodb.com/supportability/cosmosdb\n",
      "  self._resolve_srv()\n"
     ]
    },
    {
     "name": "stdout",
     "output_type": "stream",
     "text": [
      "✅ Connected to MongoDB.\n",
      "🔍 Found 10 result(s).\n",
      "🔌 MongoDB connection closed.\n"
     ]
    },
    {
     "data": {
      "text/plain": [
       "10"
      ]
     },
     "execution_count": 21,
     "metadata": {},
     "output_type": "execute_result"
    }
   ],
   "source": [
    "response = lookup_provider_info.invoke(\n",
    "    {\n",
    "        \"practice_city_name\": \"San Antonio\",\n",
    "        \"practice_street_address\": \"Santa Rosa\"\n",
    "    }\n",
    ")\n",
    "\n",
    "len(response)"
   ]
  },
  {
   "cell_type": "code",
   "execution_count": 22,
   "id": "f6b6af06",
   "metadata": {},
   "outputs": [
    {
     "data": {
      "text/plain": [
       "[{'npi_number': 1861415903,\n",
       "  'entity_type': 'Organization',\n",
       "  'provider_org_name_legal': 'CHRISTUS SANTA ROSA HEALTH CARE CORPORATION',\n",
       "  'provider_last_name_legal': nan,\n",
       "  'provider_first_name': nan,\n",
       "  'practice_city_name': 'SAN ANTONIO',\n",
       "  'practice_state_name': 'TX',\n",
       "  'practice_postal_code': 782073108,\n",
       "  'practice_street_address': '333 N SANTA ROSA ST',\n",
       "  'practice_phone_number': '2107043705',\n",
       "  'taxonomy_codes_list': ['261QE0700X'],\n",
       "  'primary_taxonomy_code': '261QE0700X'},\n",
       " {'npi_number': 1821004151,\n",
       "  'entity_type': 'Organization',\n",
       "  'provider_org_name_legal': 'CHRISTUS SANTA ROSA HEALTH CARE CORPORATION',\n",
       "  'provider_last_name_legal': nan,\n",
       "  'provider_first_name': nan,\n",
       "  'practice_city_name': 'SAN ANTONIO',\n",
       "  'practice_state_name': 'TX',\n",
       "  'practice_postal_code': 782073108,\n",
       "  'practice_street_address': '333 N SANTA ROSA ST',\n",
       "  'practice_phone_number': '2107043907',\n",
       "  'taxonomy_codes_list': ['282N00000X',\n",
       "   '1223S0112X',\n",
       "   '261QA1903X',\n",
       "   '273Y00000X',\n",
       "   '282NC2000X'],\n",
       "  'primary_taxonomy_code': '282NC2000X'},\n",
       " {'npi_number': 1275712432,\n",
       "  'entity_type': 'Organization',\n",
       "  'provider_org_name_legal': 'RICARDO PINERO MD PA',\n",
       "  'provider_last_name_legal': nan,\n",
       "  'provider_first_name': nan,\n",
       "  'practice_city_name': 'SAN ANTONIO',\n",
       "  'practice_state_name': 'TX',\n",
       "  'practice_postal_code': 782073108,\n",
       "  'practice_street_address': '333 N SANTA ROSA',\n",
       "  'practice_phone_number': '2107042742',\n",
       "  'taxonomy_codes_list': ['174400000X'],\n",
       "  'primary_taxonomy_code': '174400000X'},\n",
       " {'npi_number': 1770768525,\n",
       "  'entity_type': 'Organization',\n",
       "  'provider_org_name_legal': 'TEJANO EMERGENCY PHYSICIANS PLLC',\n",
       "  'provider_last_name_legal': nan,\n",
       "  'provider_first_name': nan,\n",
       "  'practice_city_name': 'SAN ANTONIO',\n",
       "  'practice_state_name': 'TX',\n",
       "  'practice_postal_code': 782073108,\n",
       "  'practice_street_address': '333 N SANTA ROSA AVE',\n",
       "  'practice_phone_number': '2107042880',\n",
       "  'taxonomy_codes_list': ['207P00000X'],\n",
       "  'primary_taxonomy_code': '207P00000X'},\n",
       " {'npi_number': 1023293875,\n",
       "  'entity_type': 'Organization',\n",
       "  'provider_org_name_legal': 'TEXAS EM-1 MEDICAL SERVICES, PA',\n",
       "  'provider_last_name_legal': nan,\n",
       "  'provider_first_name': nan,\n",
       "  'practice_city_name': 'SAN ANTONIO',\n",
       "  'practice_state_name': 'TX',\n",
       "  'practice_postal_code': 782073108,\n",
       "  'practice_street_address': '333 N SANTA ROSA AVE',\n",
       "  'practice_phone_number': '2107042880',\n",
       "  'taxonomy_codes_list': ['363A00000X', '363L00000X'],\n",
       "  'primary_taxonomy_code': '363L00000X'},\n",
       " {'npi_number': 1104001957,\n",
       "  'entity_type': 'Organization',\n",
       "  'provider_org_name_legal': 'TRAVIS EMERGENCY PHYSICIANS PLLC',\n",
       "  'provider_last_name_legal': nan,\n",
       "  'provider_first_name': nan,\n",
       "  'practice_city_name': 'SAN ANTONIO',\n",
       "  'practice_state_name': 'TX',\n",
       "  'practice_postal_code': 782073108,\n",
       "  'practice_street_address': '333 N SANTA ROSA AVE',\n",
       "  'practice_phone_number': '2107042190',\n",
       "  'taxonomy_codes_list': ['2080P0204X', '208000000X', '207P00000X'],\n",
       "  'primary_taxonomy_code': '207P00000X'},\n",
       " {'npi_number': 1588849855,\n",
       "  'entity_type': 'Organization',\n",
       "  'provider_org_name_legal': 'TEXAS EM-1 MEDICAL SERVICES, PA',\n",
       "  'provider_last_name_legal': nan,\n",
       "  'provider_first_name': nan,\n",
       "  'practice_city_name': 'SAN ANTONIO',\n",
       "  'practice_state_name': 'TX',\n",
       "  'practice_postal_code': 782073108,\n",
       "  'practice_street_address': '333 N SANTA ROSA AVE',\n",
       "  'practice_phone_number': '2107042190',\n",
       "  'taxonomy_codes_list': ['363A00000X', '363L00000X'],\n",
       "  'primary_taxonomy_code': '363L00000X'},\n",
       " {'npi_number': 1568606911,\n",
       "  'entity_type': 'Organization',\n",
       "  'provider_org_name_legal': 'RADIOLOGY OF SAN ANTONIO',\n",
       "  'provider_last_name_legal': nan,\n",
       "  'provider_first_name': nan,\n",
       "  'practice_city_name': 'SAN ANTONIO',\n",
       "  'practice_state_name': 'TX',\n",
       "  'practice_postal_code': 782073108,\n",
       "  'practice_street_address': '333 N SANTA ROSA AVE',\n",
       "  'practice_phone_number': '2107042011',\n",
       "  'taxonomy_codes_list': ['2085R0202X'],\n",
       "  'primary_taxonomy_code': '2085R0202X'},\n",
       " {'npi_number': 1679871081,\n",
       "  'entity_type': 'Organization',\n",
       "  'provider_org_name_legal': 'RIVER CITY IMAGING ASSOCIATES PA',\n",
       "  'provider_last_name_legal': nan,\n",
       "  'provider_first_name': nan,\n",
       "  'practice_city_name': 'SAN ANTONIO',\n",
       "  'practice_state_name': 'TX',\n",
       "  'practice_postal_code': 782073108,\n",
       "  'practice_street_address': '333 N SANTA ROSA ST',\n",
       "  'practice_phone_number': '2107042371',\n",
       "  'taxonomy_codes_list': ['261QR0200X', '2085R0202X'],\n",
       "  'primary_taxonomy_code': '2085R0202X'},\n",
       " {'npi_number': 1538504873,\n",
       "  'entity_type': 'Organization',\n",
       "  'provider_org_name_legal': 'SAFETY SPINE PLLC',\n",
       "  'provider_last_name_legal': nan,\n",
       "  'provider_first_name': nan,\n",
       "  'practice_city_name': 'SAN ANTONIO',\n",
       "  'practice_state_name': 'TX',\n",
       "  'practice_postal_code': 78207,\n",
       "  'practice_street_address': '333 NORTH SANTA ROSA STREET',\n",
       "  'practice_phone_number': '2107145550',\n",
       "  'taxonomy_codes_list': ['204R00000X',\n",
       "   '2084N0400X',\n",
       "   '246ZE0600X',\n",
       "   '2084N0600X'],\n",
       "  'primary_taxonomy_code': '2084N0600X'}]"
      ]
     },
     "execution_count": 22,
     "metadata": {},
     "output_type": "execute_result"
    }
   ],
   "source": [
    "response"
   ]
  },
  {
   "cell_type": "code",
   "execution_count": null,
   "id": "2d97abb6",
   "metadata": {},
   "outputs": [],
   "source": []
  },
  {
   "cell_type": "code",
   "execution_count": null,
   "id": "f59138c3",
   "metadata": {},
   "outputs": [],
   "source": []
  },
  {
   "cell_type": "code",
   "execution_count": null,
   "id": "0ed5e819",
   "metadata": {},
   "outputs": [],
   "source": []
  }
 ],
 "metadata": {
  "kernelspec": {
   "display_name": "Python 3",
   "language": "python",
   "name": "python3"
  },
  "language_info": {
   "codemirror_mode": {
    "name": "ipython",
    "version": 3
   },
   "file_extension": ".py",
   "mimetype": "text/x-python",
   "name": "python",
   "nbconvert_exporter": "python",
   "pygments_lexer": "ipython3",
   "version": "3.12.0"
  }
 },
 "nbformat": 4,
 "nbformat_minor": 5
}
