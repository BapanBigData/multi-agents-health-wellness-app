{
 "cells": [
  {
   "cell_type": "code",
   "execution_count": 1,
   "id": "d54dcc1a",
   "metadata": {},
   "outputs": [
    {
     "name": "stdout",
     "output_type": "stream",
     "text": [
      "hello\n"
     ]
    }
   ],
   "source": [
    "print('hello')"
   ]
  },
  {
   "cell_type": "code",
   "execution_count": 2,
   "id": "cb530dbf",
   "metadata": {},
   "outputs": [
    {
     "name": "stderr",
     "output_type": "stream",
     "text": [
      "d:\\API Developement\\multi_agents_health_wellness_app\\.venv\\Lib\\site-packages\\epidatpy\\_auth.py:9: UserWarning: DELPHI_EPIDATA_KEY environment variable not set. Please set it to your Epidata API key to avoid rate limits. You can get a free key at: https://api.delphi.cmu.edu/epidata/admin/registration_form\n",
      "  warnings.warn(\n"
     ]
    },
    {
     "name": "stdout",
     "output_type": "stream",
     "text": [
      "     source                    signal geo_type geo_value time_type time_value  \\\n",
      "0  jhu-csse  confirmed_cumulative_num   nation        us       day 2021-04-05   \n",
      "1  jhu-csse  confirmed_cumulative_num   nation        us       day 2021-04-06   \n",
      "2  jhu-csse  confirmed_cumulative_num   nation        us       day 2021-04-07   \n",
      "3  jhu-csse  confirmed_cumulative_num   nation        us       day 2021-04-08   \n",
      "4  jhu-csse  confirmed_cumulative_num   nation        us       day 2021-04-09   \n",
      "5  jhu-csse  confirmed_cumulative_num   nation        us       day 2021-04-10   \n",
      "\n",
      "       issue  lag       value  stderr  sample_size  direction  missing_value  \\\n",
      "0 2023-03-10  704  30874278.0    <NA>         <NA>       <NA>              0   \n",
      "1 2023-03-10  703  30937664.0    <NA>         <NA>       <NA>              0   \n",
      "2 2023-03-10  702  31013399.0    <NA>         <NA>       <NA>              0   \n",
      "3 2023-03-10  701  31093208.0    <NA>         <NA>       <NA>              0   \n",
      "4 2023-03-10  700  31177602.0    <NA>         <NA>       <NA>              0   \n",
      "5 2023-03-10  699  31247947.0    <NA>         <NA>       <NA>              0   \n",
      "\n",
      "   missing_stderr  missing_sample_size  \n",
      "0               5                    5  \n",
      "1               5                    5  \n",
      "2               5                    5  \n",
      "3               5                    5  \n",
      "4               5                    5  \n",
      "5               5                    5  \n"
     ]
    }
   ],
   "source": [
    "from epidatpy import EpiDataContext, EpiRange\n",
    "\n",
    "# Create the client object.\n",
    "epidata = EpiDataContext()\n",
    "apicall = epidata.pub_covidcast(\n",
    "    data_source=\"jhu-csse\",\n",
    "    signals=\"confirmed_cumulative_num\",\n",
    "    geo_type=\"nation\",\n",
    "    time_type=\"day\",\n",
    "    geo_values=\"us\",\n",
    "    time_values=EpiRange(20210405, 20210410),\n",
    ")\n",
    "print(apicall.df())"
   ]
  },
  {
   "cell_type": "code",
   "execution_count": 4,
   "id": "175d56a4",
   "metadata": {},
   "outputs": [
    {
     "data": {
      "text/plain": [
       "EpiDataCall(endpoint=covidcast/, params={'data_source': 'jhu-csse', 'signals': 'confirmed_cumulative_num', 'geo_type': 'nation', 'time_type': 'day', 'geo_values': 'us', 'time_values': '20210405-20210410'})"
      ]
     },
     "execution_count": 4,
     "metadata": {},
     "output_type": "execute_result"
    }
   ],
   "source": [
    "apicall"
   ]
  },
  {
   "cell_type": "markdown",
   "id": "bebabffb",
   "metadata": {},
   "source": [
    "EpiDataCall(endpoint=covidcast/, params={'data_source': 'jhu-csse', 'signals': 'confirmed_cumulative_num', 'geo_type': 'nation', 'time_type': 'day', 'geo_values': 'us', 'time_values': '20210405-20210410'})\n"
   ]
  },
  {
   "cell_type": "code",
   "execution_count": 23,
   "id": "b9c15cc7",
   "metadata": {},
   "outputs": [
    {
     "data": {
      "text/plain": [
       "<bound method EpiDataCall.df of EpiDataCall(endpoint=covidcast/, params={'data_source': 'jhu-csse', 'signals': 'confirmed_cumulative_num', 'geo_type': 'nation', 'time_type': 'day', 'geo_values': 'us', 'time_values': '20210405-20210410'})>"
      ]
     },
     "execution_count": 23,
     "metadata": {},
     "output_type": "execute_result"
    }
   ],
   "source": [
    "apicall.df"
   ]
  },
  {
   "cell_type": "markdown",
   "id": "6011d267",
   "metadata": {},
   "source": [
    "<bound method EpiDataCall.df of EpiDataCall(endpoint=covidcast/, params={'data_source': 'jhu-csse', 'signals': 'confirmed_cumulative_num', 'geo_type': 'nation', 'time_type': 'day', 'geo_values': 'us', 'time_values': '20210405-20210410'})>"
   ]
  },
  {
   "cell_type": "code",
   "execution_count": 6,
   "id": "2b03cce9",
   "metadata": {},
   "outputs": [],
   "source": [
    "import requests\n",
    "from typing import Dict"
   ]
  },
  {
   "cell_type": "code",
   "execution_count": 11,
   "id": "ff177f30",
   "metadata": {},
   "outputs": [],
   "source": [
    "import requests\n",
    "from langchain.tools import tool\n",
    "\n",
    "@tool\n",
    "def get_drug_label_info(ingredient: str) -> dict:\n",
    "    \"\"\"\n",
    "    Fetches drug label information for a given active ingredient from the OpenFDA Drug Label API.\n",
    "\n",
    "    Args:\n",
    "        ingredient (str): The active drug ingredient to search for (e.g., 'paracetamol').\n",
    "\n",
    "    Returns:\n",
    "        dict: A dictionary containing drug label data such as active ingredient, purpose, warnings, dosage, etc.\n",
    "            Metadata like disclaimer and terms are excluded.\n",
    "            Returns an empty dict if no results are found or the API fails.\n",
    "    \"\"\"\n",
    "    try:\n",
    "        url = f\"https://api.fda.gov/drug/label.json?search=active_ingredient:%22{ingredient}%22&limit=1\"\n",
    "        response = requests.get(url, timeout=10)\n",
    "        response.raise_for_status()\n",
    "        data = response.json()\n",
    "        \n",
    "        # Return only the first result if available\n",
    "        if \"results\" in data and len(data[\"results\"]) > 0:\n",
    "            return data[\"results\"][0]\n",
    "        else:\n",
    "            return {}\n",
    "        \n",
    "    except Exception as e:\n",
    "        return {\"error\": str(e)}"
   ]
  },
  {
   "cell_type": "code",
   "execution_count": 12,
   "id": "d0ef6c78",
   "metadata": {},
   "outputs": [
    {
     "data": {
      "text/plain": [
       "\"Fetches drug label information for a given active ingredient from the OpenFDA Drug Label API.\\n\\nArgs:\\n    ingredient (str): The active drug ingredient to search for (e.g., 'paracetamol').\\n\\nReturns:\\n    dict: A dictionary containing drug label data such as active ingredient, purpose, warnings, dosage, etc.\\n        Metadata like disclaimer and terms are excluded.\\n        Returns an empty dict if no results are found or the API fails.\""
      ]
     },
     "execution_count": 12,
     "metadata": {},
     "output_type": "execute_result"
    }
   ],
   "source": [
    "get_drug_label_info.description"
   ]
  },
  {
   "cell_type": "code",
   "execution_count": 13,
   "id": "6d32d31b",
   "metadata": {},
   "outputs": [],
   "source": [
    "response = get_drug_label_info.invoke(\n",
    "    {\n",
    "        'ingredient': 'paracetamol'\n",
    "    }\n",
    ")"
   ]
  },
  {
   "cell_type": "code",
   "execution_count": 14,
   "id": "286905f9",
   "metadata": {},
   "outputs": [
    {
     "data": {
      "text/plain": [
       "{'spl_product_data_elements': ['L-Oral PARACETAMOL Syrup Paracetamol METHYLPARABEN PROPYLPARABEN POTASSIUM SORBATE CITRIC ACID MONOHYDRATE SORBITOL PROPYLENE GLYCOL SUCRALOSE POVIDONE K30 GLYCERIN FD&C RED NO. 40 D&C RED NO. 33 WATER ACETAMINOPHEN ACETAMINOPHEN'],\n",
       " 'spl_unclassified_section': ['DRUG FACTS',\n",
       "  '√ Fever reducer - Pain reliever √ Alcohol Free √ Aspirin Free Manufactured by : Global Pharma Healthcare Pvt. Ltd., A-9, SIDCO Pharmaceutical Complex, Alathur-603 110 - INDIA. www.global-pharma.com'],\n",
       " 'active_ingredient': ['Active ingredient Paracetamol 160 mg'],\n",
       " 'purpose': ['Purpose Pain reliever - Fever reducer'],\n",
       " 'inactive_ingredient': ['INACTIVE INGREDIENTS Artificial flavour, Methylparaben, Propylparaben, Potassium sorbate, Citric Acid Monohydrate, Sorbitol, Propylene glycol, Sucralose, Povidone K30, Glycerin, FD&C Red #40, D&C Red #33 & Purified water.'],\n",
       " 'indications_and_usage': ['USES Temporarily relieves minor aches and pains due to: • The common cold • Flu • Headache • Sore throat • Toothache • Temporarily reduces fever'],\n",
       " 'warnings': ['WARNINGS Liver warning: This product contains acetaminophen. Severe liver damage may occur if your child takes: • More than 5 doses in 24 hours, which is the maximum daily amount • With other drugs containing acetaminophen Allergy alert: acetaminophen may cause severe skin reactions. Symptoms may include: • Skin reddening • Blisters • Rash If a skin reaction occurs, stop use and seek medical help right away. Sore throat warning: If sore throat is severe, persists for more than 2 days, is accompanied or followed by fever, headache, rash, nausea, or vomiting, consult a doctor promptly. Do not use • With any other product containing acetaminophen (prescription or nonprescription). If you are not sure whether a drug contains acetaminophen, ask a doctor or pharmacist • If your child is allergic to acetaminophen or any of the inactive ingredients in this product Ask a doctor before use if your child has liver disease Ask a doctor or pharmacist before use if your child is taking the blood thinning drug warfarin When using this product, do not exceed recommended dose (see overdose warning) Stop use and ask a doctor if • Pain gets worse or last for more than 5 days • Fever gets worse or last for more than 3 days • New symptoms occur • Redness or swelling is present These could be signs of a serious condition. Keep out of the reach of children. Overdose warning: Taking more than the recommended dose (overdose) may cause liver damage. In case of overdose, get medical help or contact a Poison Control Center (1-800-222-1222) right away. Quick medical attention is critical for adults as well as children even if you do not notice any signs or symptoms.'],\n",
       " 'keep_out_of_reach_of_children': ['Keep out of the reach of children. Overdose warning: Taking more than the recommended dose (overdose) may cause liver damage. In case of overdose, get medical help or contact a Poison Control Center (1-800-222-1222) right away. Quick medical attention is critical for adults as well as children even if you do not notice any signs or symptoms.'],\n",
       " 'dosage_and_administration': ['DIRECTIONS • This product does not contain directions or complete warnings for adult use • Find right dose on chart. If possible, use weight to dose; otherwise, use age • mL = milliliter • If needed, repeat dose every 4 hours • Do not use more than 5 doses in 24 hours • Use enclosed dosing cup only. Do not use any other device Weight Age Dose under 24 lbs Under 2 years Ask a doctor 24 to 35 lbs 2 to 3 years 5mL 36 to 47 lbs 4 to 5 years 7.5mL 48 to 59 lbs 6 to 8 years 10mL 60 to 71 lbs 9 to 10 years 12.5mL 72 to 95 lbs 11 years 15mL'],\n",
       " 'dosage_and_administration_table': ['<table width=\"40%\"><caption/><tbody><tr><td styleCode=\"Rrule\"><content styleCode=\"bold\"> Weight</content></td><td styleCode=\"Rrule\"><content styleCode=\"bold\"> Age</content></td><td><content styleCode=\"bold\"> Dose</content></td></tr><tr><td styleCode=\"Rrule\"> under 24 lbs</td><td styleCode=\"Rrule\"> Under 2 years</td><td> Ask a doctor</td></tr><tr><td styleCode=\"Rrule\"> 24 to 35 lbs </td><td styleCode=\"Rrule\"> 2 to 3 years </td><td> 5mL</td></tr><tr><td styleCode=\"Rrule\"> 36 to 47 lbs</td><td styleCode=\"Rrule\"> 4 to 5 years</td><td> 7.5mL</td></tr><tr><td styleCode=\"Rrule\"> 48 to 59 lbs </td><td styleCode=\"Rrule\"> 6 to 8 years </td><td> 10mL</td></tr><tr><td styleCode=\"Rrule\"> 60 to 71 lbs </td><td styleCode=\"Rrule\"> 9 to 10 years </td><td> 12.5mL</td></tr><tr><td styleCode=\"Rrule\"> 72 to 95 lbs </td><td styleCode=\"Rrule\"> 11 years </td><td> 15mL</td></tr></tbody></table>'],\n",
       " 'storage_and_handling': [\"OTHER INFORMATION • TAMPER EVIDENT: Do not use this product if inner foil seal over mouth of the bottle is cut, torn, broken, or missing. • Store at 20°- 25°C (68° - 77°F) • This product is not the same concentration as Infants' Drops. For accurate dosing, follow the dosing instructions on this label.\"],\n",
       " 'questions': ['QUESTIONS OR COMMENTS? Call toll-free 1-800-572-6632, Weekdays 7:00 AM - 5.30 PM EST.'],\n",
       " 'package_label_principal_display_panel': ['Packaging Paracetamol2'],\n",
       " 'set_id': '2d345b38-4b89-4699-bc72-710685bee662',\n",
       " 'id': 'f42c0ea8-6233-bccf-e053-2995a90aa314',\n",
       " 'effective_time': '20230208',\n",
       " 'version': '2',\n",
       " 'openfda': {}}"
      ]
     },
     "execution_count": 14,
     "metadata": {},
     "output_type": "execute_result"
    }
   ],
   "source": [
    "response"
   ]
  },
  {
   "cell_type": "code",
   "execution_count": 17,
   "id": "a85fb4fc",
   "metadata": {},
   "outputs": [],
   "source": [
    "response = get_drug_label_info.invoke(\n",
    "    {\n",
    "        'ingredient': 'cetirizine'\n",
    "    }\n",
    ")"
   ]
  },
  {
   "cell_type": "code",
   "execution_count": 18,
   "id": "7370b681",
   "metadata": {},
   "outputs": [
    {
     "data": {
      "text/plain": [
       "{'spl_product_data_elements': ['Allergy Relief Cetirizine HCl 10 mg CETIRIZINE HYDROCHLORIDE CETIRIZINE HYPROMELLOSES LACTOSE MONOHYDRATE MAGNESIUM STEARATE CELLULOSE, MICROCRYSTALLINE POLYETHYLENE GLYCOL, UNSPECIFIED TITANIUM DIOXIDE SILICON DIOXIDE CROSCARMELLOSE SODIUM G;4 pillow-shaped'],\n",
       " 'active_ingredient': ['Active ingredient Cetirizine HCl 10 mg'],\n",
       " 'purpose': ['Purpose Antihistamine'],\n",
       " 'indications_and_usage': ['Uses temporarily relieves these symptoms due to hay fever or other upper respiratory allergies: runny nose sneezing itchy, watery eyes itching of the nose or throat'],\n",
       " 'warnings': ['Warnings Do not use if you have ever had an allergic reaction to this product or any of its ingredients, or to an antihistamine containing hydroxyzine Ask a doctor before use if you have liver or kidney disease. Your doctor should determine if you need a different dose. Ask doctor or pharmacist before use if you are taking sedatives or tranquilizers When using this product drowsiness may occur avoid alcoholic drinks alcohol, sedatives, and tranquilizers may increase drowsiness be careful when drivinga motor vehicle or operating machinery Stop use and ask doctor if an allergic reaction to this product occurs. Seek medical help right away. If pregnant or breast-feeding If pregnant or breast-feeding, ask a health professional before use.'],\n",
       " 'ask_doctor': ['Ask a doctor before use if you have liver or kidney disease. Your doctor should determine if you need a different dose.'],\n",
       " 'ask_doctor_or_pharmacist': ['Ask doctor or pharmacist before use if you are taking sedatives or tranquilizers'],\n",
       " 'when_using': ['When using this product drowsiness may occur avoid alcoholic drinks alcohol, sedatives, and tranquilizers may increase drowsiness be careful when drivinga motor vehicle or operating machinery'],\n",
       " 'stop_use': ['Stop use and ask doctor if an allergic reaction to this product occurs. Seek medical help right away.'],\n",
       " 'pregnancy_or_breast_feeding': ['If pregnant or breast-feeding If pregnant or breast-feeding, ask a health professional before use.'],\n",
       " 'keep_out_of_reach_of_children': ['Keep out of reach of children In case of accidental overdose, contact a doctor or Poison Control Center (1-800-222-1222) right away.'],\n",
       " 'dosage_and_administration': ['Directions Adults and children 6 years and over: one 10mg tablet once daily; do not take more than one 10mg tablet in 24 hours. A 5mg product may be appropriate for less severe symptoms Adults 65 years and over: ask a doctor Children under 6 years of age: ask a doctor Consumers with liver or kidney disease: ask a doctor'],\n",
       " 'spl_unclassified_section': ['Other information store between 20°C to 25°C (68°F to 77°F ) do not use if blister unit is broken or torn',\n",
       "  'Questions or comments? Call toll free 1-888-952-0050 Manufactured for A&Z Pharmaceutical, Inc. Hauppauge, NY 11788'],\n",
       " 'inactive_ingredient': ['Inactive Ingredients colloidal silicon dioxide, croscarmellose sodium, hypromellose, lactose monohydrate, magnesium stearate, microcrystalline cellulose, polyethylene glycol, titanium dioxide'],\n",
       " 'package_label_principal_display_panel': ['Package/Label Principal Display Panel Allergy Relief Allergy Relief'],\n",
       " 'set_id': '004c3ee5-8f32-4ebb-923b-e867b2976c2a',\n",
       " 'id': 'ce6d560c-49f6-4a85-bf9b-a816db6d3c8d',\n",
       " 'effective_time': '20190923',\n",
       " 'version': '2',\n",
       " 'openfda': {}}"
      ]
     },
     "execution_count": 18,
     "metadata": {},
     "output_type": "execute_result"
    }
   ],
   "source": [
    "response"
   ]
  },
  {
   "cell_type": "code",
   "execution_count": 20,
   "id": "18d7872e",
   "metadata": {},
   "outputs": [
    {
     "name": "stdout",
     "output_type": "stream",
     "text": [
      "✅ API Response:\n",
      "[{'DateObserved': '2025-07-29', 'HourObserved': 4, 'LocalTimeZone': 'PST', 'ReportingArea': 'NW Coastal LA', 'StateCode': 'CA', 'Latitude': 34.0505, 'Longitude': -118.4566, 'ParameterName': 'O3', 'AQI': 10, 'Category': {'Number': 1, 'Name': 'Good'}}]\n"
     ]
    }
   ],
   "source": [
    "import requests\n",
    "from dotenv import load_dotenv\n",
    "import os\n",
    "\n",
    "load_dotenv()\n",
    "\n",
    "API_KEY = os.getenv(\"AIR_QUALITY_API_KEY\")\n",
    "url = \"https://www.airnowapi.org/aq/observation/zipCode/current/\"\n",
    "\n",
    "params = {\n",
    "    \"format\": \"application/json\",\n",
    "    \"zipCode\": \"90210\",\n",
    "    \"distance\": 25,\n",
    "    \"API_KEY\": API_KEY\n",
    "}\n",
    "\n",
    "try:\n",
    "    response = requests.get(url, params=params, timeout=10)\n",
    "    response.raise_for_status()\n",
    "    data = response.json()\n",
    "    print(\"✅ API Response:\")\n",
    "    print(data)\n",
    "\n",
    "except requests.exceptions.HTTPError as errh:\n",
    "    print(\"❌ HTTP Error:\", errh)\n",
    "except requests.exceptions.ConnectionError as errc:\n",
    "    print(\"❌ Connection Error:\", errc)\n",
    "except requests.exceptions.Timeout as errt:\n",
    "    print(\"❌ Timeout Error:\", errt)\n",
    "except requests.exceptions.RequestException as err:\n",
    "    print(\"❌ Request Exception:\", err)\n"
   ]
  },
  {
   "cell_type": "markdown",
   "id": "baba4b42",
   "metadata": {},
   "source": [
    "[{'DateObserved': '2025-07-29', 'HourObserved': 4, 'LocalTimeZone': 'PST', 'ReportingArea': 'NW Coastal LA', 'StateCode': 'CA', 'Latitude': 34.0505, 'Longitude': -118.4566, 'ParameterName': 'O3', 'AQI': 10, 'Category': {'Number': 1, 'Name': 'Good'}}]"
   ]
  },
  {
   "cell_type": "code",
   "execution_count": 21,
   "id": "a5fed9ed",
   "metadata": {},
   "outputs": [],
   "source": [
    "import requests\n",
    "from langchain.tools import tool\n",
    "from dotenv import load_dotenv\n",
    "import os\n",
    "\n",
    "load_dotenv()\n",
    "\n",
    "@tool\n",
    "def get_air_quality_by_zip(zip_code: str) -> dict:\n",
    "    \"\"\"\n",
    "    Fetches current air quality index (AQI) information for a given U.S. ZIP code \n",
    "    using the AirNow API.\n",
    "\n",
    "    Args:\n",
    "        zip_code (str): A 5-digit U.S. ZIP code (e.g., '90210').\n",
    "\n",
    "    Returns:\n",
    "        dict: A dictionary with observed date, area, AQI value, pollutant name, and category.\n",
    "            Returns an error message if data is unavailable or the request fails.\n",
    "    \"\"\"\n",
    "    API_KEY = os.getenv(\"AIR_QUALITY_API_KEY\") \n",
    "    url = \"https://www.airnowapi.org/aq/observation/zipCode/current/\"\n",
    "\n",
    "    params = {\n",
    "        \"format\": \"application/json\",\n",
    "        \"zipCode\": zip_code,\n",
    "        \"distance\": 25,\n",
    "        \"API_KEY\": API_KEY\n",
    "    }\n",
    "\n",
    "    try:\n",
    "        response = requests.get(url, params=params, timeout=10)\n",
    "        response.raise_for_status()\n",
    "        data = response.json()\n",
    "\n",
    "        if not data:\n",
    "            return {\"message\": f\"No air quality data found for ZIP code {zip_code}.\"}\n",
    "\n",
    "        # Return first pollutant's data\n",
    "        pollutant = data[0]\n",
    "        return {\n",
    "            \"area\": pollutant[\"ReportingArea\"],\n",
    "            \"state\": pollutant[\"StateCode\"],\n",
    "            \"latitude\": pollutant[\"Latitude\"],\n",
    "            \"longitude\": pollutant[\"Longitude\"],\n",
    "            \"pollutant\": pollutant[\"ParameterName\"],\n",
    "            \"aqi\": pollutant[\"AQI\"],\n",
    "            \"category\": pollutant[\"Category\"][\"Name\"],\n",
    "            \"observed_date\": pollutant[\"DateObserved\"],\n",
    "            \"observed_hour\": pollutant[\"HourObserved\"],\n",
    "            \"timezone\": pollutant[\"LocalTimeZone\"]\n",
    "        }\n",
    "\n",
    "    except Exception as e:\n",
    "        return {\"error\": str(e)}\n"
   ]
  },
  {
   "cell_type": "code",
   "execution_count": 22,
   "id": "585d6679",
   "metadata": {},
   "outputs": [
    {
     "name": "stdout",
     "output_type": "stream",
     "text": [
      "{'area': 'NW Coastal LA', 'state': 'CA', 'latitude': 34.0505, 'longitude': -118.4566, 'pollutant': 'O3', 'aqi': 10, 'category': 'Good', 'observed_date': '2025-07-29', 'observed_hour': 4, 'timezone': 'PST'}\n"
     ]
    }
   ],
   "source": [
    "result = get_air_quality_by_zip.invoke({'zip_code': '90210'})\n",
    "print(result)"
   ]
  },
  {
   "cell_type": "markdown",
   "id": "e9863a66",
   "metadata": {},
   "source": [
    "{'area': 'NW Coastal LA', 'state': 'CA', 'latitude': 34.0505, 'longitude': -118.4566, 'pollutant': 'O3', 'aqi': 10, 'category': 'Good', 'observed_date': '2025-07-29', 'observed_hour': 4, 'timezone': 'PST'}"
   ]
  },
  {
   "cell_type": "code",
   "execution_count": null,
   "id": "e7c1e4ad",
   "metadata": {},
   "outputs": [],
   "source": []
  }
 ],
 "metadata": {
  "kernelspec": {
   "display_name": "Python 3",
   "language": "python",
   "name": "python3"
  },
  "language_info": {
   "codemirror_mode": {
    "name": "ipython",
    "version": 3
   },
   "file_extension": ".py",
   "mimetype": "text/x-python",
   "name": "python",
   "nbconvert_exporter": "python",
   "pygments_lexer": "ipython3",
   "version": "3.12.0"
  }
 },
 "nbformat": 4,
 "nbformat_minor": 5
}
