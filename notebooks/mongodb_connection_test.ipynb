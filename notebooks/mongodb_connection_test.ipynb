{
 "cells": [
  {
   "cell_type": "code",
   "execution_count": 3,
   "id": "962d5e2c",
   "metadata": {},
   "outputs": [],
   "source": [
    "import pymongo\n",
    "import certifi\n",
    "from pymongo.errors import ConnectionFailure, OperationFailure\n",
    "from urllib.parse import quote_plus, urlparse, urlunparse"
   ]
  },
  {
   "cell_type": "code",
   "execution_count": 1,
   "id": "c27425b8",
   "metadata": {},
   "outputs": [],
   "source": [
    "\n",
    "# import os\n",
    "# from dotenv import load_dotenv\n",
    "\n",
    "# # === Load from .env ===\n",
    "# load_dotenv()\n",
    "\n",
    "# username = os.getenv(\"MONGO_USERNAME\")\n",
    "# password = os.getenv(\"MONGO_PASSWORD\")\n",
    "\n",
    "# if not username or not password:\n",
    "#     raise ValueError(\"❌ MONGO_USERNAME or MONGO_PASSWORD not set in .env\")\n",
    "\n",
    "# # === Safely encode user/pass\n",
    "# safe_username = quote_plus(username)\n",
    "# safe_password = quote_plus(password)\n",
    "\n",
    "# # === Construct the full Mongo URI\n",
    "# # === Regional Mongo URI for Cosmos DB (as per your selection)\n",
    "# MONGO_URI = (\n",
    "#     f\"mongodb+srv://{safe_username}:{safe_password}\"\n",
    "#     f\"@happmongocluster.mongocluster.cosmos.azure.com/\"\n",
    "#     f\"?tls=true&authMechanism=SCRAM-SHA-256&retrywrites=false&maxIdleTimeMS=120000\"\n",
    "# )\n",
    "\n",
    "# # === Target DB and Collection for test ===\n",
    "# DB_NAME = \"\"\n",
    "# COLLECTION_NAME = \"\"\n",
    "\n",
    "\n",
    "# def test_mongodb_connection():\n",
    "#     client = None\n",
    "#     try:\n",
    "#         print(\"🔗 Connecting with constructed URI...\")\n",
    "#         client = pymongo.MongoClient(MONGO_URI, tlsCAFile=certifi.where())\n",
    "#         db = client[DB_NAME]\n",
    "#         collection = db[COLLECTION_NAME]\n",
    "\n",
    "#         demo_doc = {\"test\": \"mongo connection\", \"status\": \"success\"}\n",
    "#         result = collection.insert_one(demo_doc)\n",
    "#         print(f\"✅ Inserted test document with _id: {result.inserted_id}\")\n",
    "\n",
    "#         fetched = collection.find_one({\"_id\": result.inserted_id})\n",
    "#         print(\"📥 Fetched from DB:\", fetched)\n",
    "\n",
    "#     except ConnectionFailure as conn_fail:\n",
    "#         print(f\"❌ Failed to connect. Check IP firewall or URI... : {conn_fail}\")\n",
    "#     except OperationFailure as op_err:\n",
    "#         print(f\"❌ MongoDB operation failed: {op_err}\")\n",
    "#     except Exception as e:\n",
    "#         print(f\"❌ Unexpected error: {e}\")\n",
    "#     finally:\n",
    "#         if client:\n",
    "#             client.close()\n",
    "#             print(\"🔌 MongoDB connection closed.\")\n",
    "\n",
    "# if __name__ == \"__main__\":\n",
    "#     test_mongodb_connection()"
   ]
  },
  {
   "cell_type": "code",
   "execution_count": null,
   "id": "62b95b94",
   "metadata": {},
   "outputs": [],
   "source": []
  },
  {
   "cell_type": "code",
   "execution_count": null,
   "id": "ea1d4eb5",
   "metadata": {},
   "outputs": [],
   "source": []
  }
 ],
 "metadata": {
  "kernelspec": {
   "display_name": "Python 3",
   "language": "python",
   "name": "python3"
  },
  "language_info": {
   "codemirror_mode": {
    "name": "ipython",
    "version": 3
   },
   "file_extension": ".py",
   "mimetype": "text/x-python",
   "name": "python",
   "nbconvert_exporter": "python",
   "pygments_lexer": "ipython3",
   "version": "3.12.0"
  }
 },
 "nbformat": 4,
 "nbformat_minor": 5
}
